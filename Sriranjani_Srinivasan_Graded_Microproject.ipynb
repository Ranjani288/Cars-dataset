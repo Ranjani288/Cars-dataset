{
 "cells": [
  {
   "cell_type": "code",
   "execution_count": 30,
   "id": "7bbcdd2a",
   "metadata": {},
   "outputs": [],
   "source": [
    "import pyforest\n",
    "import scipy.stats as st\n",
    "from statsmodels.stats.proportion import proportion_confint,proportions_ztest"
   ]
  },
  {
   "cell_type": "code",
   "execution_count": 31,
   "id": "13069dda",
   "metadata": {},
   "outputs": [
    {
     "data": {
      "text/plain": [
       "'C:\\\\Users\\\\Ranjani\\\\DSML\\\\Statistics'"
      ]
     },
     "execution_count": 31,
     "metadata": {},
     "output_type": "execute_result"
    }
   ],
   "source": [
    "import os\n",
    "os.getcwd()"
   ]
  },
  {
   "cell_type": "code",
   "execution_count": 32,
   "id": "ff81d380",
   "metadata": {},
   "outputs": [
    {
     "data": {
      "text/html": [
       "<div>\n",
       "<style scoped>\n",
       "    .dataframe tbody tr th:only-of-type {\n",
       "        vertical-align: middle;\n",
       "    }\n",
       "\n",
       "    .dataframe tbody tr th {\n",
       "        vertical-align: top;\n",
       "    }\n",
       "\n",
       "    .dataframe thead th {\n",
       "        text-align: right;\n",
       "    }\n",
       "</style>\n",
       "<table border=\"1\" class=\"dataframe\">\n",
       "  <thead>\n",
       "    <tr style=\"text-align: right;\">\n",
       "      <th></th>\n",
       "      <th>Sales_ID</th>\n",
       "      <th>name</th>\n",
       "      <th>year</th>\n",
       "      <th>selling_price</th>\n",
       "      <th>km_driven</th>\n",
       "      <th>fuel</th>\n",
       "      <th>seller_type</th>\n",
       "      <th>transmission</th>\n",
       "      <th>owner</th>\n",
       "      <th>mileage</th>\n",
       "      <th>engine</th>\n",
       "      <th>max_power</th>\n",
       "      <th>seats</th>\n",
       "      <th>City</th>\n",
       "      <th>Postal_code</th>\n",
       "      <th>Sales_status</th>\n",
       "    </tr>\n",
       "  </thead>\n",
       "  <tbody>\n",
       "    <tr>\n",
       "      <th>4745</th>\n",
       "      <td>4883</td>\n",
       "      <td>Force One SX ABS 7 Seating</td>\n",
       "      <td>2014</td>\n",
       "      <td>555000</td>\n",
       "      <td>147279</td>\n",
       "      <td>Diesel</td>\n",
       "      <td>Individual</td>\n",
       "      <td>Manual</td>\n",
       "      <td>Second Owner</td>\n",
       "      <td>17.0 kmpl</td>\n",
       "      <td>2200 CC</td>\n",
       "      <td>139.01 bhp</td>\n",
       "      <td>7</td>\n",
       "      <td>Jamshedpur</td>\n",
       "      <td>832102</td>\n",
       "      <td>N</td>\n",
       "    </tr>\n",
       "    <tr>\n",
       "      <th>7322</th>\n",
       "      <td>7533</td>\n",
       "      <td>Skoda Octavia Ambiente 1.9 TDI MT</td>\n",
       "      <td>2007</td>\n",
       "      <td>195000</td>\n",
       "      <td>175000</td>\n",
       "      <td>Diesel</td>\n",
       "      <td>Individual</td>\n",
       "      <td>Manual</td>\n",
       "      <td>Second Owner</td>\n",
       "      <td>18.7 kmpl</td>\n",
       "      <td>1896 CC</td>\n",
       "      <td>66 bhp</td>\n",
       "      <td>5</td>\n",
       "      <td>Delhi</td>\n",
       "      <td>110039</td>\n",
       "      <td>N</td>\n",
       "    </tr>\n",
       "    <tr>\n",
       "      <th>3442</th>\n",
       "      <td>3552</td>\n",
       "      <td>Honda City 2017-2020 GXi</td>\n",
       "      <td>2008</td>\n",
       "      <td>200000</td>\n",
       "      <td>110000</td>\n",
       "      <td>Petrol</td>\n",
       "      <td>Individual</td>\n",
       "      <td>Manual</td>\n",
       "      <td>Second Owner</td>\n",
       "      <td>17.7 kmpl</td>\n",
       "      <td>1497 CC</td>\n",
       "      <td>78 bhp</td>\n",
       "      <td>5</td>\n",
       "      <td>Ludhiana</td>\n",
       "      <td>141003</td>\n",
       "      <td>N</td>\n",
       "    </tr>\n",
       "    <tr>\n",
       "      <th>5209</th>\n",
       "      <td>5358</td>\n",
       "      <td>Hyundai Elite i20 Asta Option CVT BSIV</td>\n",
       "      <td>2018</td>\n",
       "      <td>800000</td>\n",
       "      <td>25000</td>\n",
       "      <td>Petrol</td>\n",
       "      <td>Individual</td>\n",
       "      <td>Automatic</td>\n",
       "      <td>First Owner</td>\n",
       "      <td>17.4 kmpl</td>\n",
       "      <td>1197 CC</td>\n",
       "      <td>81.86 bhp</td>\n",
       "      <td>5</td>\n",
       "      <td>Patna</td>\n",
       "      <td>801110</td>\n",
       "      <td>N</td>\n",
       "    </tr>\n",
       "    <tr>\n",
       "      <th>4072</th>\n",
       "      <td>4196</td>\n",
       "      <td>Mahindra Marazzo M8</td>\n",
       "      <td>2019</td>\n",
       "      <td>1460000</td>\n",
       "      <td>5000</td>\n",
       "      <td>Diesel</td>\n",
       "      <td>Individual</td>\n",
       "      <td>Manual</td>\n",
       "      <td>First Owner</td>\n",
       "      <td>17.3 kmpl</td>\n",
       "      <td>1497 CC</td>\n",
       "      <td>121 bhp</td>\n",
       "      <td>7</td>\n",
       "      <td>Ludhiana</td>\n",
       "      <td>141003</td>\n",
       "      <td>N</td>\n",
       "    </tr>\n",
       "  </tbody>\n",
       "</table>\n",
       "</div>"
      ],
      "text/plain": [
       "      Sales_ID                                    name  year  selling_price  \\\n",
       "4745      4883              Force One SX ABS 7 Seating  2014         555000   \n",
       "7322      7533       Skoda Octavia Ambiente 1.9 TDI MT  2007         195000   \n",
       "3442      3552                Honda City 2017-2020 GXi  2008         200000   \n",
       "5209      5358  Hyundai Elite i20 Asta Option CVT BSIV  2018         800000   \n",
       "4072      4196                     Mahindra Marazzo M8  2019        1460000   \n",
       "\n",
       "      km_driven    fuel seller_type transmission         owner    mileage  \\\n",
       "4745     147279  Diesel  Individual       Manual  Second Owner  17.0 kmpl   \n",
       "7322     175000  Diesel  Individual       Manual  Second Owner  18.7 kmpl   \n",
       "3442     110000  Petrol  Individual       Manual  Second Owner  17.7 kmpl   \n",
       "5209      25000  Petrol  Individual    Automatic   First Owner  17.4 kmpl   \n",
       "4072       5000  Diesel  Individual       Manual   First Owner  17.3 kmpl   \n",
       "\n",
       "       engine   max_power  seats        City  Postal_code Sales_status  \n",
       "4745  2200 CC  139.01 bhp      7  Jamshedpur       832102            N  \n",
       "7322  1896 CC      66 bhp      5       Delhi       110039            N  \n",
       "3442  1497 CC      78 bhp      5    Ludhiana       141003            N  \n",
       "5209  1197 CC   81.86 bhp      5       Patna       801110            N  \n",
       "4072  1497 CC     121 bhp      7    Ludhiana       141003            N  "
      ]
     },
     "execution_count": 32,
     "metadata": {},
     "output_type": "execute_result"
    }
   ],
   "source": [
    "df =pd.read_csv(\"cars_dataset.csv\")\n",
    "df.sample(5)"
   ]
  },
  {
   "cell_type": "code",
   "execution_count": 33,
   "id": "5a475c24",
   "metadata": {},
   "outputs": [
    {
     "data": {
      "text/plain": [
       "(7906, 16)"
      ]
     },
     "execution_count": 33,
     "metadata": {},
     "output_type": "execute_result"
    }
   ],
   "source": [
    "df.shape"
   ]
  },
  {
   "cell_type": "code",
   "execution_count": 34,
   "id": "7a1c3815",
   "metadata": {},
   "outputs": [
    {
     "name": "stdout",
     "output_type": "stream",
     "text": [
      "<class 'pandas.core.frame.DataFrame'>\n",
      "RangeIndex: 7906 entries, 0 to 7905\n",
      "Data columns (total 16 columns):\n",
      " #   Column         Non-Null Count  Dtype \n",
      "---  ------         --------------  ----- \n",
      " 0   Sales_ID       7906 non-null   int64 \n",
      " 1   name           7906 non-null   object\n",
      " 2   year           7906 non-null   int64 \n",
      " 3   selling_price  7906 non-null   int64 \n",
      " 4   km_driven      7906 non-null   int64 \n",
      " 5   fuel           7906 non-null   object\n",
      " 6   seller_type    7906 non-null   object\n",
      " 7   transmission   7906 non-null   object\n",
      " 8   owner          7906 non-null   object\n",
      " 9   mileage        7906 non-null   object\n",
      " 10  engine         7906 non-null   object\n",
      " 11  max_power      7906 non-null   object\n",
      " 12  seats          7906 non-null   int64 \n",
      " 13  City           7906 non-null   object\n",
      " 14  Postal_code    7906 non-null   int64 \n",
      " 15  Sales_status   7906 non-null   object\n",
      "dtypes: int64(6), object(10)\n",
      "memory usage: 988.4+ KB\n"
     ]
    }
   ],
   "source": [
    "df.info()"
   ]
  },
  {
   "cell_type": "code",
   "execution_count": 35,
   "id": "227e8c25",
   "metadata": {},
   "outputs": [
    {
     "data": {
      "text/plain": [
       "Sales_ID         0\n",
       "name             0\n",
       "year             0\n",
       "selling_price    0\n",
       "km_driven        0\n",
       "fuel             0\n",
       "seller_type      0\n",
       "transmission     0\n",
       "owner            0\n",
       "mileage          0\n",
       "engine           0\n",
       "max_power        0\n",
       "seats            0\n",
       "City             0\n",
       "Postal_code      0\n",
       "Sales_status     0\n",
       "dtype: int64"
      ]
     },
     "execution_count": 35,
     "metadata": {},
     "output_type": "execute_result"
    }
   ],
   "source": [
    "df.isnull().sum()"
   ]
  },
  {
   "cell_type": "raw",
   "id": "a0fb2efe",
   "metadata": {},
   "source": [
    "There are no missing values in this dataset"
   ]
  },
  {
   "cell_type": "raw",
   "id": "02eefaab",
   "metadata": {},
   "source": [
    "Q1)\n",
    "\n",
    "a) What are the characteristics of the cars listed in the used car dataset? Specifically, what is the average \n",
    "mileage and selling price of the cars? What is the range of prices? What is the interquartile range of \n",
    "prices? What is the most common fuel type and transmission type? Additionally, can we observe a \n",
    "significant difference in the mean selling price for cars sold by individual sellers compared to those sold \n",
    "by dealers in the used car dataset?\n",
    "\n",
    "b) Given that car has a selling price of over $10,000, what is the probability that it has an automatic \n",
    "transmission?\n"
   ]
  },
  {
   "cell_type": "code",
   "execution_count": 36,
   "id": "2537dc74",
   "metadata": {},
   "outputs": [],
   "source": [
    "import pandas as pd\n"
   ]
  },
  {
   "cell_type": "code",
   "execution_count": 37,
   "id": "22334ea8",
   "metadata": {},
   "outputs": [
    {
     "data": {
      "text/html": [
       "<div>\n",
       "<style scoped>\n",
       "    .dataframe tbody tr th:only-of-type {\n",
       "        vertical-align: middle;\n",
       "    }\n",
       "\n",
       "    .dataframe tbody tr th {\n",
       "        vertical-align: top;\n",
       "    }\n",
       "\n",
       "    .dataframe thead th {\n",
       "        text-align: right;\n",
       "    }\n",
       "</style>\n",
       "<table border=\"1\" class=\"dataframe\">\n",
       "  <thead>\n",
       "    <tr style=\"text-align: right;\">\n",
       "      <th></th>\n",
       "      <th>Sales_ID</th>\n",
       "      <th>year</th>\n",
       "      <th>selling_price</th>\n",
       "      <th>km_driven</th>\n",
       "      <th>seats</th>\n",
       "      <th>Postal_code</th>\n",
       "    </tr>\n",
       "  </thead>\n",
       "  <tbody>\n",
       "    <tr>\n",
       "      <th>count</th>\n",
       "      <td>7906.000000</td>\n",
       "      <td>7906.000000</td>\n",
       "      <td>7.906000e+03</td>\n",
       "      <td>7.906000e+03</td>\n",
       "      <td>7906.000000</td>\n",
       "      <td>7906.000000</td>\n",
       "    </tr>\n",
       "    <tr>\n",
       "      <th>mean</th>\n",
       "      <td>4070.106248</td>\n",
       "      <td>2013.983936</td>\n",
       "      <td>6.498137e+05</td>\n",
       "      <td>6.918866e+04</td>\n",
       "      <td>5.416393</td>\n",
       "      <td>503806.024285</td>\n",
       "    </tr>\n",
       "    <tr>\n",
       "      <th>std</th>\n",
       "      <td>2345.770159</td>\n",
       "      <td>3.863695</td>\n",
       "      <td>8.135827e+05</td>\n",
       "      <td>5.679230e+04</td>\n",
       "      <td>0.959208</td>\n",
       "      <td>205061.544757</td>\n",
       "    </tr>\n",
       "    <tr>\n",
       "      <th>min</th>\n",
       "      <td>1.000000</td>\n",
       "      <td>1994.000000</td>\n",
       "      <td>2.999900e+04</td>\n",
       "      <td>1.000000e+00</td>\n",
       "      <td>2.000000</td>\n",
       "      <td>110039.000000</td>\n",
       "    </tr>\n",
       "    <tr>\n",
       "      <th>25%</th>\n",
       "      <td>2037.250000</td>\n",
       "      <td>2012.000000</td>\n",
       "      <td>2.700000e+05</td>\n",
       "      <td>3.500000e+04</td>\n",
       "      <td>5.000000</td>\n",
       "      <td>391510.000000</td>\n",
       "    </tr>\n",
       "    <tr>\n",
       "      <th>50%</th>\n",
       "      <td>4076.500000</td>\n",
       "      <td>2015.000000</td>\n",
       "      <td>4.500000e+05</td>\n",
       "      <td>6.000000e+04</td>\n",
       "      <td>5.000000</td>\n",
       "      <td>524225.000000</td>\n",
       "    </tr>\n",
       "    <tr>\n",
       "      <th>75%</th>\n",
       "      <td>6102.000000</td>\n",
       "      <td>2017.000000</td>\n",
       "      <td>6.900000e+05</td>\n",
       "      <td>9.542500e+04</td>\n",
       "      <td>5.000000</td>\n",
       "      <td>680503.000000</td>\n",
       "    </tr>\n",
       "    <tr>\n",
       "      <th>max</th>\n",
       "      <td>8128.000000</td>\n",
       "      <td>2020.000000</td>\n",
       "      <td>1.000000e+07</td>\n",
       "      <td>2.360457e+06</td>\n",
       "      <td>14.000000</td>\n",
       "      <td>834008.000000</td>\n",
       "    </tr>\n",
       "  </tbody>\n",
       "</table>\n",
       "</div>"
      ],
      "text/plain": [
       "          Sales_ID         year  selling_price     km_driven        seats  \\\n",
       "count  7906.000000  7906.000000   7.906000e+03  7.906000e+03  7906.000000   \n",
       "mean   4070.106248  2013.983936   6.498137e+05  6.918866e+04     5.416393   \n",
       "std    2345.770159     3.863695   8.135827e+05  5.679230e+04     0.959208   \n",
       "min       1.000000  1994.000000   2.999900e+04  1.000000e+00     2.000000   \n",
       "25%    2037.250000  2012.000000   2.700000e+05  3.500000e+04     5.000000   \n",
       "50%    4076.500000  2015.000000   4.500000e+05  6.000000e+04     5.000000   \n",
       "75%    6102.000000  2017.000000   6.900000e+05  9.542500e+04     5.000000   \n",
       "max    8128.000000  2020.000000   1.000000e+07  2.360457e+06    14.000000   \n",
       "\n",
       "         Postal_code  \n",
       "count    7906.000000  \n",
       "mean   503806.024285  \n",
       "std    205061.544757  \n",
       "min    110039.000000  \n",
       "25%    391510.000000  \n",
       "50%    524225.000000  \n",
       "75%    680503.000000  \n",
       "max    834008.000000  "
      ]
     },
     "execution_count": 37,
     "metadata": {},
     "output_type": "execute_result"
    }
   ],
   "source": [
    "df.describe()"
   ]
  },
  {
   "cell_type": "raw",
   "id": "9d97b40e",
   "metadata": {},
   "source": [
    "1. As the values in Engine, mileage and max power are in object type, we should convert them to numeric first\n",
    "2. The mileage column has 2 values: kmpl and km/kg--> We know 1 ltr = 1 kg, so just splitting numeric and str and converting to numeric column is enough\n",
    "3. max power has numeric and 'bhp', which should be extracted as numeric only\n",
    "4. Engine has numeric and 'cc', which should be extracted as numeric only\n",
    "\n"
   ]
  },
  {
   "cell_type": "code",
   "execution_count": 38,
   "id": "4dbe4df9",
   "metadata": {},
   "outputs": [],
   "source": [
    "columns = ['mileage', 'engine', 'max_power']\n",
    "    "
   ]
  },
  {
   "cell_type": "code",
   "execution_count": 39,
   "id": "0d41fddd",
   "metadata": {},
   "outputs": [],
   "source": [
    "for i in columns:\n",
    "    df[i] = df[i].apply(lambda x: float(x.split()[0]))"
   ]
  },
  {
   "cell_type": "code",
   "execution_count": 40,
   "id": "86f87ee2",
   "metadata": {},
   "outputs": [
    {
     "data": {
      "text/html": [
       "<div>\n",
       "<style scoped>\n",
       "    .dataframe tbody tr th:only-of-type {\n",
       "        vertical-align: middle;\n",
       "    }\n",
       "\n",
       "    .dataframe tbody tr th {\n",
       "        vertical-align: top;\n",
       "    }\n",
       "\n",
       "    .dataframe thead th {\n",
       "        text-align: right;\n",
       "    }\n",
       "</style>\n",
       "<table border=\"1\" class=\"dataframe\">\n",
       "  <thead>\n",
       "    <tr style=\"text-align: right;\">\n",
       "      <th></th>\n",
       "      <th>Sales_ID</th>\n",
       "      <th>name</th>\n",
       "      <th>year</th>\n",
       "      <th>selling_price</th>\n",
       "      <th>km_driven</th>\n",
       "      <th>fuel</th>\n",
       "      <th>seller_type</th>\n",
       "      <th>transmission</th>\n",
       "      <th>owner</th>\n",
       "      <th>mileage</th>\n",
       "      <th>engine</th>\n",
       "      <th>max_power</th>\n",
       "      <th>seats</th>\n",
       "      <th>City</th>\n",
       "      <th>Postal_code</th>\n",
       "      <th>Sales_status</th>\n",
       "    </tr>\n",
       "  </thead>\n",
       "  <tbody>\n",
       "    <tr>\n",
       "      <th>7882</th>\n",
       "      <td>8105</td>\n",
       "      <td>Honda City 2017-2020 VTEC</td>\n",
       "      <td>2006</td>\n",
       "      <td>160000</td>\n",
       "      <td>70000</td>\n",
       "      <td>Petrol</td>\n",
       "      <td>Individual</td>\n",
       "      <td>Manual</td>\n",
       "      <td>Second Owner</td>\n",
       "      <td>16.90</td>\n",
       "      <td>1497.0</td>\n",
       "      <td>100.00</td>\n",
       "      <td>5</td>\n",
       "      <td>Thrissur</td>\n",
       "      <td>680503</td>\n",
       "      <td>N</td>\n",
       "    </tr>\n",
       "    <tr>\n",
       "      <th>3798</th>\n",
       "      <td>3917</td>\n",
       "      <td>Maruti Swift Dzire ZDi</td>\n",
       "      <td>2011</td>\n",
       "      <td>350000</td>\n",
       "      <td>120000</td>\n",
       "      <td>Diesel</td>\n",
       "      <td>Individual</td>\n",
       "      <td>Manual</td>\n",
       "      <td>Second Owner</td>\n",
       "      <td>19.30</td>\n",
       "      <td>1248.0</td>\n",
       "      <td>73.90</td>\n",
       "      <td>5</td>\n",
       "      <td>Kochi</td>\n",
       "      <td>682001</td>\n",
       "      <td>N</td>\n",
       "    </tr>\n",
       "    <tr>\n",
       "      <th>5464</th>\n",
       "      <td>5621</td>\n",
       "      <td>Maruti Wagon R LXI</td>\n",
       "      <td>2013</td>\n",
       "      <td>225000</td>\n",
       "      <td>58343</td>\n",
       "      <td>Petrol</td>\n",
       "      <td>Trustmark Dealer</td>\n",
       "      <td>Manual</td>\n",
       "      <td>First Owner</td>\n",
       "      <td>21.79</td>\n",
       "      <td>998.0</td>\n",
       "      <td>67.05</td>\n",
       "      <td>5</td>\n",
       "      <td>Kolkata</td>\n",
       "      <td>700027</td>\n",
       "      <td>N</td>\n",
       "    </tr>\n",
       "    <tr>\n",
       "      <th>4322</th>\n",
       "      <td>4454</td>\n",
       "      <td>Mahindra Scorpio 2009-2014 EX 2WD 9S</td>\n",
       "      <td>2014</td>\n",
       "      <td>655000</td>\n",
       "      <td>50000</td>\n",
       "      <td>Diesel</td>\n",
       "      <td>Individual</td>\n",
       "      <td>Manual</td>\n",
       "      <td>Second Owner</td>\n",
       "      <td>14.00</td>\n",
       "      <td>2523.0</td>\n",
       "      <td>75.00</td>\n",
       "      <td>9</td>\n",
       "      <td>Thrissur</td>\n",
       "      <td>680503</td>\n",
       "      <td>N</td>\n",
       "    </tr>\n",
       "    <tr>\n",
       "      <th>1660</th>\n",
       "      <td>1711</td>\n",
       "      <td>Lexus ES 300h</td>\n",
       "      <td>2019</td>\n",
       "      <td>5150000</td>\n",
       "      <td>20000</td>\n",
       "      <td>Petrol</td>\n",
       "      <td>Dealer</td>\n",
       "      <td>Automatic</td>\n",
       "      <td>First Owner</td>\n",
       "      <td>22.37</td>\n",
       "      <td>2487.0</td>\n",
       "      <td>214.56</td>\n",
       "      <td>5</td>\n",
       "      <td>Nellore</td>\n",
       "      <td>524225</td>\n",
       "      <td>Y</td>\n",
       "    </tr>\n",
       "    <tr>\n",
       "      <th>2472</th>\n",
       "      <td>2559</td>\n",
       "      <td>Chevrolet Spark 1.0 PS</td>\n",
       "      <td>2010</td>\n",
       "      <td>125000</td>\n",
       "      <td>70000</td>\n",
       "      <td>Petrol</td>\n",
       "      <td>Individual</td>\n",
       "      <td>Manual</td>\n",
       "      <td>First Owner</td>\n",
       "      <td>16.00</td>\n",
       "      <td>995.0</td>\n",
       "      <td>63.00</td>\n",
       "      <td>5</td>\n",
       "      <td>Jamshedpur</td>\n",
       "      <td>832102</td>\n",
       "      <td>N</td>\n",
       "    </tr>\n",
       "    <tr>\n",
       "      <th>4976</th>\n",
       "      <td>5121</td>\n",
       "      <td>Tata Tiago 1.2 Revotron XM</td>\n",
       "      <td>2017</td>\n",
       "      <td>350000</td>\n",
       "      <td>60000</td>\n",
       "      <td>Petrol</td>\n",
       "      <td>Individual</td>\n",
       "      <td>Manual</td>\n",
       "      <td>First Owner</td>\n",
       "      <td>23.84</td>\n",
       "      <td>1199.0</td>\n",
       "      <td>84.00</td>\n",
       "      <td>5</td>\n",
       "      <td>Indore</td>\n",
       "      <td>453551</td>\n",
       "      <td>N</td>\n",
       "    </tr>\n",
       "    <tr>\n",
       "      <th>2856</th>\n",
       "      <td>2950</td>\n",
       "      <td>Honda Jazz VX CVT</td>\n",
       "      <td>2019</td>\n",
       "      <td>750000</td>\n",
       "      <td>3100</td>\n",
       "      <td>Petrol</td>\n",
       "      <td>Individual</td>\n",
       "      <td>Automatic</td>\n",
       "      <td>First Owner</td>\n",
       "      <td>18.20</td>\n",
       "      <td>1199.0</td>\n",
       "      <td>88.70</td>\n",
       "      <td>5</td>\n",
       "      <td>Chennai</td>\n",
       "      <td>600020</td>\n",
       "      <td>N</td>\n",
       "    </tr>\n",
       "    <tr>\n",
       "      <th>430</th>\n",
       "      <td>445</td>\n",
       "      <td>Maruti 800 Std</td>\n",
       "      <td>2010</td>\n",
       "      <td>120000</td>\n",
       "      <td>70000</td>\n",
       "      <td>Petrol</td>\n",
       "      <td>Individual</td>\n",
       "      <td>Manual</td>\n",
       "      <td>Second Owner</td>\n",
       "      <td>16.10</td>\n",
       "      <td>796.0</td>\n",
       "      <td>37.00</td>\n",
       "      <td>4</td>\n",
       "      <td>Patna</td>\n",
       "      <td>801110</td>\n",
       "      <td>Y</td>\n",
       "    </tr>\n",
       "    <tr>\n",
       "      <th>2990</th>\n",
       "      <td>3087</td>\n",
       "      <td>Honda Jazz VX</td>\n",
       "      <td>2016</td>\n",
       "      <td>550000</td>\n",
       "      <td>56494</td>\n",
       "      <td>Petrol</td>\n",
       "      <td>Trustmark Dealer</td>\n",
       "      <td>Manual</td>\n",
       "      <td>First Owner</td>\n",
       "      <td>18.20</td>\n",
       "      <td>1199.0</td>\n",
       "      <td>88.70</td>\n",
       "      <td>5</td>\n",
       "      <td>Aurangabad</td>\n",
       "      <td>431001</td>\n",
       "      <td>N</td>\n",
       "    </tr>\n",
       "  </tbody>\n",
       "</table>\n",
       "</div>"
      ],
      "text/plain": [
       "      Sales_ID                                  name  year  selling_price  \\\n",
       "7882      8105             Honda City 2017-2020 VTEC  2006         160000   \n",
       "3798      3917                Maruti Swift Dzire ZDi  2011         350000   \n",
       "5464      5621                    Maruti Wagon R LXI  2013         225000   \n",
       "4322      4454  Mahindra Scorpio 2009-2014 EX 2WD 9S  2014         655000   \n",
       "1660      1711                         Lexus ES 300h  2019        5150000   \n",
       "2472      2559                Chevrolet Spark 1.0 PS  2010         125000   \n",
       "4976      5121            Tata Tiago 1.2 Revotron XM  2017         350000   \n",
       "2856      2950                     Honda Jazz VX CVT  2019         750000   \n",
       "430        445                        Maruti 800 Std  2010         120000   \n",
       "2990      3087                         Honda Jazz VX  2016         550000   \n",
       "\n",
       "      km_driven    fuel       seller_type transmission         owner  mileage  \\\n",
       "7882      70000  Petrol        Individual       Manual  Second Owner    16.90   \n",
       "3798     120000  Diesel        Individual       Manual  Second Owner    19.30   \n",
       "5464      58343  Petrol  Trustmark Dealer       Manual   First Owner    21.79   \n",
       "4322      50000  Diesel        Individual       Manual  Second Owner    14.00   \n",
       "1660      20000  Petrol            Dealer    Automatic   First Owner    22.37   \n",
       "2472      70000  Petrol        Individual       Manual   First Owner    16.00   \n",
       "4976      60000  Petrol        Individual       Manual   First Owner    23.84   \n",
       "2856       3100  Petrol        Individual    Automatic   First Owner    18.20   \n",
       "430       70000  Petrol        Individual       Manual  Second Owner    16.10   \n",
       "2990      56494  Petrol  Trustmark Dealer       Manual   First Owner    18.20   \n",
       "\n",
       "      engine  max_power  seats        City  Postal_code Sales_status  \n",
       "7882  1497.0     100.00      5    Thrissur       680503            N  \n",
       "3798  1248.0      73.90      5       Kochi       682001            N  \n",
       "5464   998.0      67.05      5     Kolkata       700027            N  \n",
       "4322  2523.0      75.00      9    Thrissur       680503            N  \n",
       "1660  2487.0     214.56      5     Nellore       524225            Y  \n",
       "2472   995.0      63.00      5  Jamshedpur       832102            N  \n",
       "4976  1199.0      84.00      5      Indore       453551            N  \n",
       "2856  1199.0      88.70      5     Chennai       600020            N  \n",
       "430    796.0      37.00      4       Patna       801110            Y  \n",
       "2990  1199.0      88.70      5  Aurangabad       431001            N  "
      ]
     },
     "execution_count": 40,
     "metadata": {},
     "output_type": "execute_result"
    }
   ],
   "source": [
    "df.sample(10)"
   ]
  },
  {
   "cell_type": "code",
   "execution_count": 41,
   "id": "db5305cf",
   "metadata": {},
   "outputs": [
    {
     "name": "stdout",
     "output_type": "stream",
     "text": [
      "<class 'pandas.core.frame.DataFrame'>\n",
      "RangeIndex: 7906 entries, 0 to 7905\n",
      "Data columns (total 16 columns):\n",
      " #   Column         Non-Null Count  Dtype  \n",
      "---  ------         --------------  -----  \n",
      " 0   Sales_ID       7906 non-null   int64  \n",
      " 1   name           7906 non-null   object \n",
      " 2   year           7906 non-null   int64  \n",
      " 3   selling_price  7906 non-null   int64  \n",
      " 4   km_driven      7906 non-null   int64  \n",
      " 5   fuel           7906 non-null   object \n",
      " 6   seller_type    7906 non-null   object \n",
      " 7   transmission   7906 non-null   object \n",
      " 8   owner          7906 non-null   object \n",
      " 9   mileage        7906 non-null   float64\n",
      " 10  engine         7906 non-null   float64\n",
      " 11  max_power      7906 non-null   float64\n",
      " 12  seats          7906 non-null   int64  \n",
      " 13  City           7906 non-null   object \n",
      " 14  Postal_code    7906 non-null   int64  \n",
      " 15  Sales_status   7906 non-null   object \n",
      "dtypes: float64(3), int64(6), object(7)\n",
      "memory usage: 988.4+ KB\n"
     ]
    }
   ],
   "source": [
    "df.info()"
   ]
  },
  {
   "cell_type": "code",
   "execution_count": 42,
   "id": "7e075406",
   "metadata": {},
   "outputs": [
    {
     "data": {
      "text/html": [
       "<div>\n",
       "<style scoped>\n",
       "    .dataframe tbody tr th:only-of-type {\n",
       "        vertical-align: middle;\n",
       "    }\n",
       "\n",
       "    .dataframe tbody tr th {\n",
       "        vertical-align: top;\n",
       "    }\n",
       "\n",
       "    .dataframe thead th {\n",
       "        text-align: right;\n",
       "    }\n",
       "</style>\n",
       "<table border=\"1\" class=\"dataframe\">\n",
       "  <thead>\n",
       "    <tr style=\"text-align: right;\">\n",
       "      <th></th>\n",
       "      <th>Sales_ID</th>\n",
       "      <th>year</th>\n",
       "      <th>selling_price</th>\n",
       "      <th>km_driven</th>\n",
       "      <th>mileage</th>\n",
       "      <th>engine</th>\n",
       "      <th>max_power</th>\n",
       "      <th>seats</th>\n",
       "      <th>Postal_code</th>\n",
       "    </tr>\n",
       "  </thead>\n",
       "  <tbody>\n",
       "    <tr>\n",
       "      <th>count</th>\n",
       "      <td>7906.000000</td>\n",
       "      <td>7906.000000</td>\n",
       "      <td>7.906000e+03</td>\n",
       "      <td>7.906000e+03</td>\n",
       "      <td>7906.000000</td>\n",
       "      <td>7906.000000</td>\n",
       "      <td>7906.000000</td>\n",
       "      <td>7906.000000</td>\n",
       "      <td>7906.000000</td>\n",
       "    </tr>\n",
       "    <tr>\n",
       "      <th>mean</th>\n",
       "      <td>4070.106248</td>\n",
       "      <td>2013.983936</td>\n",
       "      <td>6.498137e+05</td>\n",
       "      <td>6.918866e+04</td>\n",
       "      <td>19.419861</td>\n",
       "      <td>1458.708829</td>\n",
       "      <td>91.587374</td>\n",
       "      <td>5.416393</td>\n",
       "      <td>503806.024285</td>\n",
       "    </tr>\n",
       "    <tr>\n",
       "      <th>std</th>\n",
       "      <td>2345.770159</td>\n",
       "      <td>3.863695</td>\n",
       "      <td>8.135827e+05</td>\n",
       "      <td>5.679230e+04</td>\n",
       "      <td>4.036263</td>\n",
       "      <td>503.893057</td>\n",
       "      <td>35.747216</td>\n",
       "      <td>0.959208</td>\n",
       "      <td>205061.544757</td>\n",
       "    </tr>\n",
       "    <tr>\n",
       "      <th>min</th>\n",
       "      <td>1.000000</td>\n",
       "      <td>1994.000000</td>\n",
       "      <td>2.999900e+04</td>\n",
       "      <td>1.000000e+00</td>\n",
       "      <td>0.000000</td>\n",
       "      <td>624.000000</td>\n",
       "      <td>32.800000</td>\n",
       "      <td>2.000000</td>\n",
       "      <td>110039.000000</td>\n",
       "    </tr>\n",
       "    <tr>\n",
       "      <th>25%</th>\n",
       "      <td>2037.250000</td>\n",
       "      <td>2012.000000</td>\n",
       "      <td>2.700000e+05</td>\n",
       "      <td>3.500000e+04</td>\n",
       "      <td>16.780000</td>\n",
       "      <td>1197.000000</td>\n",
       "      <td>68.050000</td>\n",
       "      <td>5.000000</td>\n",
       "      <td>391510.000000</td>\n",
       "    </tr>\n",
       "    <tr>\n",
       "      <th>50%</th>\n",
       "      <td>4076.500000</td>\n",
       "      <td>2015.000000</td>\n",
       "      <td>4.500000e+05</td>\n",
       "      <td>6.000000e+04</td>\n",
       "      <td>19.300000</td>\n",
       "      <td>1248.000000</td>\n",
       "      <td>82.000000</td>\n",
       "      <td>5.000000</td>\n",
       "      <td>524225.000000</td>\n",
       "    </tr>\n",
       "    <tr>\n",
       "      <th>75%</th>\n",
       "      <td>6102.000000</td>\n",
       "      <td>2017.000000</td>\n",
       "      <td>6.900000e+05</td>\n",
       "      <td>9.542500e+04</td>\n",
       "      <td>22.320000</td>\n",
       "      <td>1582.000000</td>\n",
       "      <td>102.000000</td>\n",
       "      <td>5.000000</td>\n",
       "      <td>680503.000000</td>\n",
       "    </tr>\n",
       "    <tr>\n",
       "      <th>max</th>\n",
       "      <td>8128.000000</td>\n",
       "      <td>2020.000000</td>\n",
       "      <td>1.000000e+07</td>\n",
       "      <td>2.360457e+06</td>\n",
       "      <td>42.000000</td>\n",
       "      <td>3604.000000</td>\n",
       "      <td>400.000000</td>\n",
       "      <td>14.000000</td>\n",
       "      <td>834008.000000</td>\n",
       "    </tr>\n",
       "  </tbody>\n",
       "</table>\n",
       "</div>"
      ],
      "text/plain": [
       "          Sales_ID         year  selling_price     km_driven      mileage  \\\n",
       "count  7906.000000  7906.000000   7.906000e+03  7.906000e+03  7906.000000   \n",
       "mean   4070.106248  2013.983936   6.498137e+05  6.918866e+04    19.419861   \n",
       "std    2345.770159     3.863695   8.135827e+05  5.679230e+04     4.036263   \n",
       "min       1.000000  1994.000000   2.999900e+04  1.000000e+00     0.000000   \n",
       "25%    2037.250000  2012.000000   2.700000e+05  3.500000e+04    16.780000   \n",
       "50%    4076.500000  2015.000000   4.500000e+05  6.000000e+04    19.300000   \n",
       "75%    6102.000000  2017.000000   6.900000e+05  9.542500e+04    22.320000   \n",
       "max    8128.000000  2020.000000   1.000000e+07  2.360457e+06    42.000000   \n",
       "\n",
       "            engine    max_power        seats    Postal_code  \n",
       "count  7906.000000  7906.000000  7906.000000    7906.000000  \n",
       "mean   1458.708829    91.587374     5.416393  503806.024285  \n",
       "std     503.893057    35.747216     0.959208  205061.544757  \n",
       "min     624.000000    32.800000     2.000000  110039.000000  \n",
       "25%    1197.000000    68.050000     5.000000  391510.000000  \n",
       "50%    1248.000000    82.000000     5.000000  524225.000000  \n",
       "75%    1582.000000   102.000000     5.000000  680503.000000  \n",
       "max    3604.000000   400.000000    14.000000  834008.000000  "
      ]
     },
     "execution_count": 42,
     "metadata": {},
     "output_type": "execute_result"
    }
   ],
   "source": [
    "df.describe()"
   ]
  },
  {
   "cell_type": "code",
   "execution_count": 43,
   "id": "470036b8",
   "metadata": {},
   "outputs": [
    {
     "data": {
      "text/plain": [
       "fuel\n",
       "Diesel    4299\n",
       "Petrol    3520\n",
       "CNG         52\n",
       "LPG         35\n",
       "Name: count, dtype: int64"
      ]
     },
     "execution_count": 43,
     "metadata": {},
     "output_type": "execute_result"
    }
   ],
   "source": [
    "df.fuel.value_counts()"
   ]
  },
  {
   "cell_type": "code",
   "execution_count": 44,
   "id": "8660bcd5",
   "metadata": {},
   "outputs": [
    {
     "data": {
      "text/plain": [
       "transmission\n",
       "Manual       6865\n",
       "Automatic    1041\n",
       "Name: count, dtype: int64"
      ]
     },
     "execution_count": 44,
     "metadata": {},
     "output_type": "execute_result"
    }
   ],
   "source": [
    "df.transmission.value_counts()"
   ]
  },
  {
   "cell_type": "code",
   "execution_count": 45,
   "id": "e4cc9229",
   "metadata": {},
   "outputs": [
    {
     "data": {
      "text/plain": [
       "seller_type\n",
       "Individual          6563\n",
       "Dealer              1107\n",
       "Trustmark Dealer     236\n",
       "Name: count, dtype: int64"
      ]
     },
     "execution_count": 45,
     "metadata": {},
     "output_type": "execute_result"
    }
   ],
   "source": [
    "df.seller_type.value_counts()"
   ]
  },
  {
   "cell_type": "code",
   "execution_count": 46,
   "id": "82289c1e",
   "metadata": {},
   "outputs": [
    {
     "data": {
      "text/plain": [
       "507705.8235563005"
      ]
     },
     "execution_count": 46,
     "metadata": {},
     "output_type": "execute_result"
    }
   ],
   "source": [
    "mean_individual_sellers = df[df['seller_type']==\"Individual\"]\n",
    "mean_individual_sellers.selling_price.mean()\n"
   ]
  },
  {
   "cell_type": "code",
   "execution_count": 47,
   "id": "cece2df8",
   "metadata": {},
   "outputs": [
    {
     "data": {
      "text/plain": [
       "1459909.6269196025"
      ]
     },
     "execution_count": 47,
     "metadata": {},
     "output_type": "execute_result"
    }
   ],
   "source": [
    "mean_dealer_sellers = df[df['seller_type']==\"Dealer\"]\n",
    "mean_dealer_sellers.selling_price.mean()"
   ]
  },
  {
   "cell_type": "code",
   "execution_count": 48,
   "id": "a0f91e4e",
   "metadata": {},
   "outputs": [
    {
     "data": {
      "text/plain": [
       "420000.0"
      ]
     },
     "execution_count": 48,
     "metadata": {},
     "output_type": "execute_result"
    }
   ],
   "source": [
    "#IQR: \n",
    "\n",
    "price_iqr = df['selling_price'].quantile(0.75) - df['selling_price'].quantile(0.25)\n",
    "price_iqr"
   ]
  },
  {
   "cell_type": "markdown",
   "id": "99875d8a",
   "metadata": {},
   "source": [
    "a) What are the characteristics of the cars listed in the used car dataset? Specifically, what is the average \n",
    "mileage and selling price of the cars? \n",
    "Ans: Average mileage is at 19.419861 kmpl; Average SP of cars is at Rs 6,49,813.7\n",
    "\n",
    "What is the range of prices? What is the interquartile range of prices? \n",
    "Ans: Range = max-min = 1.000000e+07 - 2.999900e+04 = Rs 99,70,001\n",
    "\n",
    "     Interquartile range of prices = 420000.0\n",
    "\n",
    "\n",
    "What is the most common fuel type and transmission type? \n",
    "Ans: The most common type of fuel is Diesel\n",
    "     The most common type of transmission is Manual\n",
    "\n",
    "\n",
    "Additionally, can we observe a \n",
    "significant difference in the mean selling price for cars sold by individual sellers compared to those sold \n",
    "by dealers in the used car dataset?\n",
    "Ans: We see that the mean SP of cars is Rs 5,07,705 when individuals sell them and mean SP of cars is Rs 14,59,909 when dealers sell it, giving a difference of Rs 9,52,204. Thus we can say that yes, there is a significant difference"
   ]
  },
  {
   "cell_type": "code",
   "execution_count": 49,
   "id": "b67838b0",
   "metadata": {},
   "outputs": [
    {
     "data": {
      "text/plain": [
       "1041"
      ]
     },
     "execution_count": 49,
     "metadata": {},
     "output_type": "execute_result"
    }
   ],
   "source": [
    "# with consideration that $10000 could be a typing error\n",
    "\n",
    "prob = df[df[\"selling_price\"] > 10000]\n",
    "prob1 = prob[prob['transmission'] == \"Automatic\"].shape[0]\n",
    "prob1"
   ]
  },
  {
   "cell_type": "code",
   "execution_count": 50,
   "id": "97ffbd98",
   "metadata": {},
   "outputs": [
    {
     "data": {
      "text/plain": [
       "0.13167214773589678"
      ]
     },
     "execution_count": 50,
     "metadata": {},
     "output_type": "execute_result"
    }
   ],
   "source": [
    "prob_of_automatic_transmission = prob1/len(df)\n",
    "prob_of_automatic_transmission"
   ]
  },
  {
   "cell_type": "code",
   "execution_count": 51,
   "id": "b650455b",
   "metadata": {},
   "outputs": [
    {
     "data": {
      "text/plain": [
       "605"
      ]
     },
     "execution_count": 51,
     "metadata": {},
     "output_type": "execute_result"
    }
   ],
   "source": [
    "#With converting $1 = Rs 83.54\n",
    "# $10000 = Rs 8,35,400\n",
    "\n",
    "probability = df[df[\"selling_price\"] > 835400]\n",
    "prob2 = probability[probability['transmission'] == \"Automatic\"].shape[0]\n",
    "prob2\n"
   ]
  },
  {
   "cell_type": "code",
   "execution_count": 52,
   "id": "0291d1c5",
   "metadata": {},
   "outputs": [
    {
     "data": {
      "text/plain": [
       "0.07652415886668353"
      ]
     },
     "execution_count": 52,
     "metadata": {},
     "output_type": "execute_result"
    }
   ],
   "source": [
    "prob2/len(df)"
   ]
  },
  {
   "cell_type": "raw",
   "id": "2ffc719b",
   "metadata": {},
   "source": [
    "b) Given that car has a selling price of over $10,000, what is the probability that it has an automatic \n",
    "transmission?\n",
    "Here I have assumed $ is the currency given in INR as per dataset\n",
    "Ans: Given that SP of a car > 10000, P(transmission=automatic) = 0.1316\n",
    "\n",
    "If it is with conversion, p(transmission=automatic) given SP > 835400 is 0.07652"
   ]
  },
  {
   "cell_type": "markdown",
   "id": "c05c200f",
   "metadata": {},
   "source": [
    "Q(2) (3 Marks)\n",
    "a) In the context of analyzing the used car market, can we determine if there is a significant difference in \n",
    "prices of cars based on the fuel type they use? This information can help buyers make informed decisions \n",
    "when purchasing a used car and may also inform government policies aimed at promoting the use of \n",
    "certain types of fuel in vehicles. (frame hypothesis and draw inferences)"
   ]
  },
  {
   "cell_type": "code",
   "execution_count": 53,
   "id": "7269e1ff",
   "metadata": {},
   "outputs": [
    {
     "name": "stderr",
     "output_type": "stream",
     "text": [
      "C:\\Users\\Ranjani\\anaconda3\\Lib\\site-packages\\seaborn\\axisgrid.py:118: UserWarning: The figure layout has changed to tight\n",
      "  self._figure.tight_layout(*args, **kwargs)\n"
     ]
    },
    {
     "data": {
      "text/plain": [
       "<seaborn.axisgrid.FacetGrid at 0x2e673fea890>"
      ]
     },
     "execution_count": 53,
     "metadata": {},
     "output_type": "execute_result"
    },
    {
     "data": {
      "image/png": "[encoded data removed]",
      "text/plain": [
       "<Figure size 500x500 with 1 Axes>"
      ]
     },
     "metadata": {},
     "output_type": "display_data"
    }
   ],
   "source": [
    "import seaborn as sns\n",
    "\n",
    "sns.catplot(x=\"fuel\", y=\"selling_price\", hue= \"fuel\", data=df)"
   ]
  },
  {
   "cell_type": "markdown",
   "id": "61f7013f",
   "metadata": {},
   "source": [
    "From the first glimpse, it looks like many cars belonging to petrol and diesel are sold the most. Hence an analysis between these two categorical values can be made..."
   ]
  },
  {
   "cell_type": "code",
   "execution_count": 54,
   "id": "02f329a6",
   "metadata": {},
   "outputs": [
    {
     "data": {
      "text/plain": [
       "0       450000\n",
       "1       370000\n",
       "3       225000\n",
       "8       350000\n",
       "9       200000\n",
       "         ...  \n",
       "7900    475000\n",
       "7902    135000\n",
       "7903    382000\n",
       "7904    290000\n",
       "7905    290000\n",
       "Name: selling_price, Length: 4299, dtype: int64"
      ]
     },
     "execution_count": 54,
     "metadata": {},
     "output_type": "execute_result"
    }
   ],
   "source": [
    "fuel_Diesel = df[df.fuel==\"Diesel\"]['selling_price']\n",
    "fuel_Petrol = df[df.fuel==\"Petrol\"]['selling_price']\n",
    "\n",
    "fuel_Diesel"
   ]
  },
  {
   "cell_type": "raw",
   "id": "ded09dde",
   "metadata": {},
   "source": [
    "Assuming alpha = 0.05\n",
    "\n",
    "Ho: There is no significant difference in selling price of diesel vs petrol cars\n",
    "Ha: The is a significant difference in selling price of diesel vs petrol cars"
   ]
  },
  {
   "cell_type": "code",
   "execution_count": 55,
   "id": "21adefed",
   "metadata": {},
   "outputs": [
    {
     "data": {
      "text/plain": [
       "ShapiroResult(statistic=0.7067093253135681, pvalue=1.9563790374377277e-06)"
      ]
     },
     "execution_count": 55,
     "metadata": {},
     "output_type": "execute_result"
    }
   ],
   "source": [
    "# Assuming a random sample\n",
    "# Assuming independent observations\n",
    "#Checking for normality\n",
    "from scipy.stats import shapiro\n",
    "\n",
    "sample_fuel_Diesel = fuel_Diesel.sample(30)\n",
    "sample_fuel_Petrol = fuel_Petrol.sample(30)\n",
    "\n",
    "\n",
    "shapiro_fuel_Diesel = shapiro(sample_fuel_Diesel)\n",
    "shapiro_fuel_Petrol = shapiro(sample_fuel_Petrol)\n",
    "\n",
    "shapiro_fuel_Diesel"
   ]
  },
  {
   "cell_type": "code",
   "execution_count": 56,
   "id": "84861b74",
   "metadata": {},
   "outputs": [
    {
     "data": {
      "text/plain": [
       "ShapiroResult(statistic=0.9160967469215393, pvalue=0.0212689395993948)"
      ]
     },
     "execution_count": 56,
     "metadata": {},
     "output_type": "execute_result"
    }
   ],
   "source": [
    "shapiro_fuel_Petrol"
   ]
  },
  {
   "cell_type": "code",
   "execution_count": 58,
   "id": "6370304b",
   "metadata": {},
   "outputs": [],
   "source": [
    "#As both p values < alpha, the datas are not normal"
   ]
  },
  {
   "cell_type": "code",
   "execution_count": null,
   "id": "fae74994",
   "metadata": {},
   "outputs": [],
   "source": []
  },
  {
   "cell_type": "code",
   "execution_count": 59,
   "id": "62600460",
   "metadata": {},
   "outputs": [
    {
     "data": {
      "text/plain": [
       "LeveneResult(statistic=6.348025858780615, pvalue=0.014528098278780587)"
      ]
     },
     "execution_count": 59,
     "metadata": {},
     "output_type": "execute_result"
    }
   ],
   "source": [
    "# Checking for variance\n",
    "\n",
    "st.levene(sample_fuel_Diesel,sample_fuel_Petrol)"
   ]
  },
  {
   "cell_type": "raw",
   "id": "addc019c",
   "metadata": {},
   "source": [
    "LEvene's > alpha(0.05)--. fail to reject null,pop has equal variances"
   ]
  },
  {
   "cell_type": "code",
   "execution_count": 60,
   "id": "dd82c3da",
   "metadata": {},
   "outputs": [
    {
     "data": {
      "text/plain": [
       "18.124727173371923"
      ]
     },
     "execution_count": 60,
     "metadata": {},
     "output_type": "execute_result"
    }
   ],
   "source": [
    "tstat,pvalue =st.ttest_ind(fuel_Diesel,fuel_Petrol,equal_var =True)\n",
    "tstat"
   ]
  },
  {
   "cell_type": "code",
   "execution_count": 61,
   "id": "5ad603f5",
   "metadata": {},
   "outputs": [
    {
     "data": {
      "text/plain": [
       "2.9806858780618803e-72"
      ]
     },
     "execution_count": 61,
     "metadata": {},
     "output_type": "execute_result"
    }
   ],
   "source": [
    "pvalue/2 # As it is 2 tailed test"
   ]
  },
  {
   "cell_type": "markdown",
   "id": "885d585a",
   "metadata": {},
   "source": [
    "As pvalue<<alpha, reject null; ie Ha is to be accepted; that is there is a significant difference in selling price of diesel vs petrol cars.\n",
    "\n",
    "Business value: The mean SP for diesel cars is higher than petrol cars and so diesel cars can be better promoted."
   ]
  },
  {
   "cell_type": "code",
   "execution_count": 62,
   "id": "22c22ae8",
   "metadata": {},
   "outputs": [
    {
     "data": {
      "text/plain": [
       "802450.282623866"
      ]
     },
     "execution_count": 62,
     "metadata": {},
     "output_type": "execute_result"
    }
   ],
   "source": [
    "#Verifying\n",
    "fuel_Diesel.mean()"
   ]
  },
  {
   "cell_type": "code",
   "execution_count": 63,
   "id": "3010280a",
   "metadata": {},
   "outputs": [
    {
     "data": {
      "text/plain": [
       "472665.203125"
      ]
     },
     "execution_count": 63,
     "metadata": {},
     "output_type": "execute_result"
    }
   ],
   "source": [
    "fuel_Petrol.mean()"
   ]
  },
  {
   "cell_type": "code",
   "execution_count": 64,
   "id": "0fbb0f43",
   "metadata": {},
   "outputs": [
    {
     "name": "stdout",
     "output_type": "stream",
     "text": [
      "Fstatistic: 117.30554435257852\n",
      "pvalue: 2.52340474514499e-74\n",
      "Reject null hypothesis; Thus there is a significant difference in prices based on fuel type \n"
     ]
    }
   ],
   "source": [
    "# Alternate way: using ANOVA (Analysis of variance): As it is a comparison for significant difference with multiple\n",
    "#categorical variables\n",
    "\n",
    "#Ho: There is no significant difference in selling price of diesel vs petrol cars\n",
    "#Ha: The is a significant difference in selling price of diesel vs petrol cars\n",
    "\n",
    "from scipy.stats import f_oneway\n",
    "f_statistic, p_value = f_oneway(df[df['fuel'] == \"Petrol\"]['selling_price'],\n",
    "                               df[df['fuel'] == \"Diesel\"]['selling_price'],\n",
    "                               df[df['fuel'] == \"CNG\"]['selling_price'],\n",
    "                               df[df['fuel'] == \"LPG\"]['selling_price'])\n",
    "\n",
    "print(f\"Fstatistic: {f_statistic}\")\n",
    "print(f\"pvalue: {p_value}\")\n",
    "\n",
    "alpha = 0.05\n",
    "\n",
    "if p_value < alpha:\n",
    "    print(\"Reject null hypothesis; Thus there is a significant difference in prices based on fuel type \")\n",
    "else:\n",
    "    print(\"Fail to reject null; There is no significant difference in prices based on fuel type\")"
   ]
  },
  {
   "cell_type": "markdown",
   "id": "4b2b1539",
   "metadata": {},
   "source": [
    "Inference: There is significant differences in the selling prices of cars based on the fuel type. This will help the government to make decisions on promotion of some kind of vehicles over the others"
   ]
  },
  {
   "cell_type": "code",
   "execution_count": null,
   "id": "91fc5ef0",
   "metadata": {},
   "outputs": [],
   "source": []
  },
  {
   "cell_type": "code",
   "execution_count": null,
   "id": "3b167c55",
   "metadata": {},
   "outputs": [],
   "source": []
  },
  {
   "cell_type": "markdown",
   "id": "62b498e8",
   "metadata": {},
   "source": [
    "Q(3) (2+5 Marks)\n",
    "a) In the used car dataset, there are some mileage values that are represented in units other than miles, such \n",
    "as kilometers. Convert these values into miles and check the mileage distribution. (Note: Convert mileage \n",
    "in kilometers to miles by multiplying by 0.621371.)\n",
    "b) You are a data analyst working for a car dealership company. Investigate whether there is a statistically \n",
    "significant difference in the distribution of the number of seats between cars with automatic and manual \n",
    "transmissions. Perform a hypothesis test to determine whether there is a significant difference in the \n",
    "number of seats for cars with automatic and manual transmissions. \n",
    "Note: Use appropriate test to check if there is a significant difference in the means of the number of seats \n",
    "for the two groups. Determine the appropriate assumptions for the test and verify if they are satisfied. \n",
    "Calculate the test statistic and p-value to determine if there is a statistically significant difference between \n",
    "the two groups.\n",
    "Based on your analysis, provide insights to the management team about whether the number of seats is \n",
    "significantly different between cars with automatic and manual transmissions. This information will be \n",
    "useful in identifying which transmission type is more popular among customers and which features \n",
    "customers value the most. It will also help the company make informed decisions on inventory \n",
    "management and pricing strategies"
   ]
  },
  {
   "cell_type": "code",
   "execution_count": 66,
   "id": "e0a1de82",
   "metadata": {},
   "outputs": [
    {
     "name": "stdout",
     "output_type": "stream",
     "text": [
      "<class 'pandas.core.frame.DataFrame'>\n",
      "RangeIndex: 7906 entries, 0 to 7905\n",
      "Data columns (total 17 columns):\n",
      " #   Column         Non-Null Count  Dtype  \n",
      "---  ------         --------------  -----  \n",
      " 0   Sales_ID       7906 non-null   int64  \n",
      " 1   name           7906 non-null   object \n",
      " 2   year           7906 non-null   int64  \n",
      " 3   selling_price  7906 non-null   int64  \n",
      " 4   km_driven      7906 non-null   int64  \n",
      " 5   fuel           7906 non-null   object \n",
      " 6   seller_type    7906 non-null   object \n",
      " 7   transmission   7906 non-null   object \n",
      " 8   owner          7906 non-null   object \n",
      " 9   mileage        7906 non-null   float64\n",
      " 10  engine         7906 non-null   float64\n",
      " 11  max_power      7906 non-null   float64\n",
      " 12  seats          7906 non-null   int64  \n",
      " 13  City           7906 non-null   object \n",
      " 14  Postal_code    7906 non-null   int64  \n",
      " 15  Sales_status   7906 non-null   object \n",
      " 16  Mileage_miles  7906 non-null   object \n",
      "dtypes: float64(3), int64(6), object(8)\n",
      "memory usage: 1.0+ MB\n",
      "Mileage distribution in miles:\n",
      "count     7906\n",
      "unique     381\n",
      "top       18.9\n",
      "freq       225\n",
      "Name: Mileage_miles, dtype: object\n"
     ]
    },
    {
     "data": {
      "image/png": "[encoded data removed]",
      "text/plain": [
       "<Figure size 1000x600 with 1 Axes>"
      ]
     },
     "metadata": {},
     "output_type": "display_data"
    }
   ],
   "source": [
    "# Q3) a) \n",
    "#Convert mileage values in km to miles\n",
    "\n",
    "df.info()\n",
    "\n",
    "#Create new column for mileage\n",
    "df['Mileage_miles'] = df['mileage'].astype(str)\n",
    "df.loc[df['Mileage_miles'].str.contains('km/kg', na =False), 'Mileage_miles'] = df['Mileage_miles'].str.replace('km/kg','').astype(float)*0.621371\n",
    "df.loc[df['Mileage_miles'].str.contains('kmpl', na =False), 'Mileage_miles'] = df['Mileage_miles'].str.replace('kmpl','').astype(float)*0.621371\n",
    "\n",
    "#Check mileage distribution\n",
    "mileage_stats =df['Mileage_miles'].describe()\n",
    "print(\"Mileage distribution in miles:\")\n",
    "print(mileage_stats)\n",
    "\n",
    "#Plot mileage distribution:\n",
    "import matplotlib.pyplot as plt\n",
    "import seaborn as sns\n",
    "\n",
    "plt.figure(figsize = (10,6))\n",
    "sns.histplot(df['Mileage_miles'],bins = 20, kde =True)\n",
    "plt.xlabel('Mileage(miles)')\n",
    "plt.ylabel('Frequency')\n",
    "plt.title('Mileage Distribution in miles')\n",
    "plt.show()"
   ]
  },
  {
   "cell_type": "code",
   "execution_count": 67,
   "id": "8759d5e8",
   "metadata": {},
   "outputs": [
    {
     "data": {
      "text/html": [
       "<div>\n",
       "<style scoped>\n",
       "    .dataframe tbody tr th:only-of-type {\n",
       "        vertical-align: middle;\n",
       "    }\n",
       "\n",
       "    .dataframe tbody tr th {\n",
       "        vertical-align: top;\n",
       "    }\n",
       "\n",
       "    .dataframe thead th {\n",
       "        text-align: right;\n",
       "    }\n",
       "</style>\n",
       "<table border=\"1\" class=\"dataframe\">\n",
       "  <thead>\n",
       "    <tr style=\"text-align: right;\">\n",
       "      <th></th>\n",
       "      <th>Sales_ID</th>\n",
       "      <th>name</th>\n",
       "      <th>year</th>\n",
       "      <th>selling_price</th>\n",
       "      <th>km_driven</th>\n",
       "      <th>fuel</th>\n",
       "      <th>seller_type</th>\n",
       "      <th>transmission</th>\n",
       "      <th>owner</th>\n",
       "      <th>mileage</th>\n",
       "      <th>engine</th>\n",
       "      <th>max_power</th>\n",
       "      <th>seats</th>\n",
       "      <th>City</th>\n",
       "      <th>Postal_code</th>\n",
       "      <th>Sales_status</th>\n",
       "      <th>Mileage_miles</th>\n",
       "    </tr>\n",
       "  </thead>\n",
       "  <tbody>\n",
       "    <tr>\n",
       "      <th>0</th>\n",
       "      <td>1</td>\n",
       "      <td>Maruti Swift Dzire VDI</td>\n",
       "      <td>2014</td>\n",
       "      <td>450000</td>\n",
       "      <td>145500</td>\n",
       "      <td>Diesel</td>\n",
       "      <td>Individual</td>\n",
       "      <td>Manual</td>\n",
       "      <td>First Owner</td>\n",
       "      <td>23.40</td>\n",
       "      <td>1248.0</td>\n",
       "      <td>74.00</td>\n",
       "      <td>5</td>\n",
       "      <td>Mumbai</td>\n",
       "      <td>400001</td>\n",
       "      <td>Y</td>\n",
       "      <td>23.4</td>\n",
       "    </tr>\n",
       "    <tr>\n",
       "      <th>1</th>\n",
       "      <td>2</td>\n",
       "      <td>Skoda Rapid 1.5 TDI Ambition</td>\n",
       "      <td>2014</td>\n",
       "      <td>370000</td>\n",
       "      <td>120000</td>\n",
       "      <td>Diesel</td>\n",
       "      <td>Individual</td>\n",
       "      <td>Manual</td>\n",
       "      <td>Second Owner</td>\n",
       "      <td>21.14</td>\n",
       "      <td>1498.0</td>\n",
       "      <td>103.52</td>\n",
       "      <td>5</td>\n",
       "      <td>Ranchi</td>\n",
       "      <td>834008</td>\n",
       "      <td>Y</td>\n",
       "      <td>21.14</td>\n",
       "    </tr>\n",
       "    <tr>\n",
       "      <th>2</th>\n",
       "      <td>3</td>\n",
       "      <td>Honda City 2017-2020 EXi</td>\n",
       "      <td>2006</td>\n",
       "      <td>158000</td>\n",
       "      <td>140000</td>\n",
       "      <td>Petrol</td>\n",
       "      <td>Individual</td>\n",
       "      <td>Manual</td>\n",
       "      <td>Third Owner</td>\n",
       "      <td>17.70</td>\n",
       "      <td>1497.0</td>\n",
       "      <td>78.00</td>\n",
       "      <td>5</td>\n",
       "      <td>Noida</td>\n",
       "      <td>201301</td>\n",
       "      <td>Y</td>\n",
       "      <td>17.7</td>\n",
       "    </tr>\n",
       "    <tr>\n",
       "      <th>3</th>\n",
       "      <td>4</td>\n",
       "      <td>Hyundai i20 Sportz Diesel</td>\n",
       "      <td>2010</td>\n",
       "      <td>225000</td>\n",
       "      <td>127000</td>\n",
       "      <td>Diesel</td>\n",
       "      <td>Individual</td>\n",
       "      <td>Manual</td>\n",
       "      <td>First Owner</td>\n",
       "      <td>23.00</td>\n",
       "      <td>1396.0</td>\n",
       "      <td>90.00</td>\n",
       "      <td>5</td>\n",
       "      <td>Dehradun</td>\n",
       "      <td>248141</td>\n",
       "      <td>Y</td>\n",
       "      <td>23.0</td>\n",
       "    </tr>\n",
       "    <tr>\n",
       "      <th>4</th>\n",
       "      <td>5</td>\n",
       "      <td>Maruti Swift VXI BSIII</td>\n",
       "      <td>2007</td>\n",
       "      <td>130000</td>\n",
       "      <td>120000</td>\n",
       "      <td>Petrol</td>\n",
       "      <td>Individual</td>\n",
       "      <td>Manual</td>\n",
       "      <td>First Owner</td>\n",
       "      <td>16.10</td>\n",
       "      <td>1298.0</td>\n",
       "      <td>88.20</td>\n",
       "      <td>5</td>\n",
       "      <td>Chennai</td>\n",
       "      <td>600020</td>\n",
       "      <td>Y</td>\n",
       "      <td>16.1</td>\n",
       "    </tr>\n",
       "  </tbody>\n",
       "</table>\n",
       "</div>"
      ],
      "text/plain": [
       "   Sales_ID                          name  year  selling_price  km_driven  \\\n",
       "0         1        Maruti Swift Dzire VDI  2014         450000     145500   \n",
       "1         2  Skoda Rapid 1.5 TDI Ambition  2014         370000     120000   \n",
       "2         3      Honda City 2017-2020 EXi  2006         158000     140000   \n",
       "3         4     Hyundai i20 Sportz Diesel  2010         225000     127000   \n",
       "4         5        Maruti Swift VXI BSIII  2007         130000     120000   \n",
       "\n",
       "     fuel seller_type transmission         owner  mileage  engine  max_power  \\\n",
       "0  Diesel  Individual       Manual   First Owner    23.40  1248.0      74.00   \n",
       "1  Diesel  Individual       Manual  Second Owner    21.14  1498.0     103.52   \n",
       "2  Petrol  Individual       Manual   Third Owner    17.70  1497.0      78.00   \n",
       "3  Diesel  Individual       Manual   First Owner    23.00  1396.0      90.00   \n",
       "4  Petrol  Individual       Manual   First Owner    16.10  1298.0      88.20   \n",
       "\n",
       "   seats      City  Postal_code Sales_status Mileage_miles  \n",
       "0      5    Mumbai       400001            Y          23.4  \n",
       "1      5    Ranchi       834008            Y         21.14  \n",
       "2      5     Noida       201301            Y          17.7  \n",
       "3      5  Dehradun       248141            Y          23.0  \n",
       "4      5   Chennai       600020            Y          16.1  "
      ]
     },
     "execution_count": 67,
     "metadata": {},
     "output_type": "execute_result"
    }
   ],
   "source": [
    "df.head()"
   ]
  },
  {
   "cell_type": "code",
   "execution_count": 68,
   "id": "e5be2e12",
   "metadata": {},
   "outputs": [
    {
     "data": {
      "text/plain": [
       "39      5\n",
       "42      5\n",
       "47      5\n",
       "53      7\n",
       "55      5\n",
       "       ..\n",
       "7838    5\n",
       "7843    5\n",
       "7860    5\n",
       "7865    5\n",
       "7886    5\n",
       "Name: seats, Length: 1041, dtype: int64"
      ]
     },
     "execution_count": 68,
     "metadata": {},
     "output_type": "execute_result"
    }
   ],
   "source": [
    "transmission_automatic = df[df.transmission==\"Automatic\"]['seats']\n",
    "transmission_manual = df[df.transmission==\"Manual\"]['seats']\n",
    "\n",
    "transmission_automatic\n",
    "\n"
   ]
  },
  {
   "cell_type": "markdown",
   "id": "5a911f15",
   "metadata": {},
   "source": [
    "Ho: Mean seats in automatic cars is the same as mean seats in manual cars\n",
    "Ha: Mean seats in automatic cars is not the same as mean seats in manual cars\n"
   ]
  },
  {
   "cell_type": "code",
   "execution_count": 69,
   "id": "6a5105d2",
   "metadata": {},
   "outputs": [],
   "source": [
    "# Drawing out a sample population:\n",
    "\n",
    "sample_automatic_transmission = transmission_automatic.sample(30)\n",
    "sample_transmission_manual = transmission_manual.sample(30)\n",
    "\n",
    "#Testing an independent t test at 95% CI\n",
    "alpha = 0.05\n"
   ]
  },
  {
   "cell_type": "code",
   "execution_count": 70,
   "id": "c8a9ec1f",
   "metadata": {},
   "outputs": [
    {
     "name": "stdout",
     "output_type": "stream",
     "text": [
      "Shapiro test for automatic transmission:  ShapiroResult(statistic=0.35991764068603516, pvalue=2.3370144708323437e-10)\n",
      "Shapiro test for manual transmission:  ShapiroResult(statistic=0.5420358180999756, pvalue=1.535043203659825e-08)\n"
     ]
    }
   ],
   "source": [
    "# Checking for assumptions:\n",
    "# Assuming a random sample\n",
    "# Assuming independent observations\n",
    "#Normality:\n",
    "\n",
    "from scipy.stats import shapiro\n",
    "\n",
    "shapiro_sample_automatic_transmission = shapiro(sample_automatic_transmission)\n",
    "shapiro_sample_transmission_manual = shapiro(sample_transmission_manual)\n",
    "\n",
    "print(\"Shapiro test for automatic transmission: \", shapiro_sample_automatic_transmission )\n",
    "print(\"Shapiro test for manual transmission: \", shapiro_sample_transmission_manual )"
   ]
  },
  {
   "cell_type": "markdown",
   "id": "f60456ce",
   "metadata": {},
   "source": [
    "As the p values for both samples: sample-automatic and sample-manual < 0.05, the samples are not normal"
   ]
  },
  {
   "cell_type": "code",
   "execution_count": 71,
   "id": "e7448429",
   "metadata": {},
   "outputs": [
    {
     "data": {
      "text/plain": [
       "LeveneResult(statistic=2.1637305699481857, pvalue=0.14670614282270109)"
      ]
     },
     "execution_count": 71,
     "metadata": {},
     "output_type": "execute_result"
    }
   ],
   "source": [
    "# Test for variance: Levene's test\n",
    "\n",
    "from scipy.stats import levene\n",
    "\n",
    "levene_test = levene(sample_automatic_transmission, sample_transmission_manual)\n",
    "levene_test\n"
   ]
  },
  {
   "cell_type": "markdown",
   "id": "9c7ddb2e",
   "metadata": {},
   "source": [
    "As pvalue > alpha, the two variances are equal"
   ]
  },
  {
   "cell_type": "code",
   "execution_count": 72,
   "id": "decf83a6",
   "metadata": {},
   "outputs": [
    {
     "data": {
      "application/javascript": [
       "\n",
       "        if (window._pyforest_update_imports_cell) { window._pyforest_update_imports_cell('import pandas as pd\\nfrom scipy import stats'); }\n",
       "    "
      ],
      "text/plain": [
       "<IPython.core.display.Javascript object>"
      ]
     },
     "metadata": {},
     "output_type": "display_data"
    }
   ],
   "source": [
    "# Perform independent t-test\n",
    "\n",
    "ind_t_statistic, pvalue = stats.ttest_ind(sample_automatic_transmission,sample_transmission_manual)"
   ]
  },
  {
   "cell_type": "code",
   "execution_count": 73,
   "id": "0eeb6abc",
   "metadata": {},
   "outputs": [
    {
     "data": {
      "text/plain": [
       "-1.4709624638134688"
      ]
     },
     "execution_count": 73,
     "metadata": {},
     "output_type": "execute_result"
    }
   ],
   "source": [
    "ind_t_statistic"
   ]
  },
  {
   "cell_type": "code",
   "execution_count": 74,
   "id": "76eca427",
   "metadata": {},
   "outputs": [
    {
     "data": {
      "text/plain": [
       "0.07335307141135032"
      ]
     },
     "execution_count": 74,
     "metadata": {},
     "output_type": "execute_result"
    }
   ],
   "source": [
    "#pvalue divided by 2 as it is two tailed test\n",
    "\n",
    "pvalue/2"
   ]
  },
  {
   "cell_type": "markdown",
   "id": "a987cd68",
   "metadata": {},
   "source": [
    "Conclusion: The pvalue > alpha: Thus fail to reject null hypothesis: That is we can say that Mean seats in automatic cars is the same as mean seats in manual cars.\n",
    "\n",
    "Business proposition: As there is no effect or significant difference on number of seats in manual and automatic transmission, we cannot say one type is better than the other. hence inventory should be kept for both.\n",
    "\n"
   ]
  },
  {
   "cell_type": "code",
   "execution_count": 75,
   "id": "c34e14b3",
   "metadata": {},
   "outputs": [
    {
     "data": {
      "text/plain": [
       "5.2372718539865515"
      ]
     },
     "execution_count": 75,
     "metadata": {},
     "output_type": "execute_result"
    }
   ],
   "source": [
    "#verifying\n",
    "transmission_automatic.mean()"
   ]
  },
  {
   "cell_type": "code",
   "execution_count": 76,
   "id": "d8579351",
   "metadata": {},
   "outputs": [
    {
     "data": {
      "text/plain": [
       "5.443554260742899"
      ]
     },
     "execution_count": 76,
     "metadata": {},
     "output_type": "execute_result"
    }
   ],
   "source": [
    "transmission_manual.mean()"
   ]
  },
  {
   "cell_type": "code",
   "execution_count": null,
   "id": "4b9bca88",
   "metadata": {},
   "outputs": [],
   "source": []
  }
 ],
 "metadata": {
  "kernelspec": {
   "display_name": "Python 3 (ipykernel)",
   "language": "python",
   "name": "python3"
  },
  "language_info": {
   "codemirror_mode": {
    "name": "ipython",
    "version": 3
   },
   "file_extension": ".py",
   "mimetype": "text/x-python",
   "name": "python",
   "nbconvert_exporter": "python",
   "pygments_lexer": "ipython3",
   "version": "3.11.5"
  }
 },
 "nbformat": 4,
 "nbformat_minor": 5
}
